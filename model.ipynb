{
 "cells": [
  {
   "cell_type": "code",
   "execution_count": 1,
   "metadata": {},
   "outputs": [],
   "source": [
    "document=[\n",
    "  {\n",
    "    \"id\": 1,\n",
    "    \"text\": \"Hello\",\n",
    "    \"date\": \"2024-10-01T17:52:40+00:00\",\n",
    "    \"user\": \"V3NK4135H\"\n",
    "  },\n",
    "  {\n",
    "    \"id\": 2,\n",
    "    \"text\": \"world\",\n",
    "    \"date\": \"2024-10-01T17:59:25+00:00\",\n",
    "    \"user\": \"V3NK4135H\"\n",
    "  },\n",
    "  {\n",
    "    \"id\": 3,\n",
    "    \"text\": \"what are you doing\",\n",
    "    \"date\": \"2024-10-01T17:59:29+00:00\",\n",
    "    \"user\": \"V3NK4135H\"\n",
    "  },\n",
    "  {\n",
    "    \"id\": 4,\n",
    "    \"text\": \"is this enough\",\n",
    "    \"date\": \"2024-10-01T17:59:33+00:00\",\n",
    "    \"user\": \"V3NK4135H\"\n",
    "  },\n",
    "  {\n",
    "    \"id\": 5,\n",
    "    \"text\": \"what are you doing\",\n",
    "    \"date\": \"2024-10-01T17:59:37+00:00\",\n",
    "    \"user\": \"V3NK4135H\"\n",
    "  },\n",
    "  {\n",
    "    \"id\": 6,\n",
    "    \"text\": \"hello\",\n",
    "    \"date\": \"2024-10-01T17:59:39+00:00\",\n",
    "    \"user\": \"V3NK4135H\"\n",
    "  },\n",
    "  {\n",
    "    \"id\": 7,\n",
    "    \"text\": \"oof\",\n",
    "    \"date\": \"2024-10-01T17:59:40+00:00\",\n",
    "    \"user\": \"V3NK4135H\"\n",
    "  },\n",
    "  {\n",
    "    \"id\": 8,\n",
    "    \"text\": \"ooof\",\n",
    "    \"date\": \"2024-10-01T17:59:41+00:00\",\n",
    "    \"user\": \"V3NK4135H\"\n",
    "  },\n",
    "  {\n",
    "    \"id\": 9,\n",
    "    \"text\": \"summary\",\n",
    "    \"date\": \"2024-10-01T17:59:44+00:00\",\n",
    "    \"user\": \"V3NK4135H\"\n",
    "  },\n",
    "  {\n",
    "    \"id\": 10,\n",
    "    \"text\": \"people\",\n",
    "    \"date\": \"2024-10-01T17:59:46+00:00\",\n",
    "    \"user\": \"V3NK4135H\"\n",
    "  }\n",
    "]"
   ]
  },
  {
   "cell_type": "code",
   "execution_count": 2,
   "metadata": {},
   "outputs": [],
   "source": [
    "import warnings\n",
    "warnings.filterwarnings(\"ignore\")\n",
    "import json\n",
    "from pathlib import Path\n",
    "from langchain.docstore.document import Document\n",
    "from langchain.tools.retriever import create_retriever_tool\n",
    "from langchain_community.vectorstores import FAISS\n",
    "from langchain_community.llms import Ollama\n",
    "from langchain_core.prompts import ChatPromptTemplate\n",
    "from langchain.chains.combine_documents import create_stuff_documents_chain\n",
    "from langchain.chains import create_retrieval_chain\n",
    "from langchain_huggingface import HuggingFaceEmbeddings\n"
   ]
  },
  {
   "cell_type": "code",
   "execution_count": 3,
   "metadata": {},
   "outputs": [
    {
     "name": "stdout",
     "output_type": "stream",
     "text": [
      "page_content='Hello' metadata={'user': 'V3NK4135H'}\n",
      "page_content='world' metadata={'user': 'V3NK4135H'}\n",
      "page_content='what are you doing' metadata={'user': 'V3NK4135H'}\n",
      "page_content='is this enough' metadata={'user': 'V3NK4135H'}\n",
      "page_content='what are you doing' metadata={'user': 'V3NK4135H'}\n",
      "page_content='hello' metadata={'user': 'V3NK4135H'}\n",
      "page_content='oof' metadata={'user': 'V3NK4135H'}\n",
      "page_content='ooof' metadata={'user': 'V3NK4135H'}\n",
      "page_content='summary' metadata={'user': 'V3NK4135H'}\n",
      "page_content='people' metadata={'user': 'V3NK4135H'}\n"
     ]
    }
   ],
   "source": [
    "\n",
    "# Transforming to the required format\n",
    "documents = [Document(page_content=item['text'], metadata={\"user\": item['user']}) for item in document]\n",
    "\n",
    "# Output example\n",
    "for doc in documents:\n",
    "    print(doc)\n",
    "\n",
    "#documents = [Document(page_content=pattern) for pattern in texts]\n"
   ]
  },
  {
   "cell_type": "code",
   "execution_count": 4,
   "metadata": {},
   "outputs": [
    {
     "data": {
      "text/plain": [
       "[Document(metadata={'user': 'V3NK4135H'}, page_content='Hello'),\n",
       " Document(metadata={'user': 'V3NK4135H'}, page_content='world'),\n",
       " Document(metadata={'user': 'V3NK4135H'}, page_content='what are you doing'),\n",
       " Document(metadata={'user': 'V3NK4135H'}, page_content='is this enough'),\n",
       " Document(metadata={'user': 'V3NK4135H'}, page_content='what are you doing'),\n",
       " Document(metadata={'user': 'V3NK4135H'}, page_content='hello'),\n",
       " Document(metadata={'user': 'V3NK4135H'}, page_content='oof'),\n",
       " Document(metadata={'user': 'V3NK4135H'}, page_content='ooof'),\n",
       " Document(metadata={'user': 'V3NK4135H'}, page_content='summary'),\n",
       " Document(metadata={'user': 'V3NK4135H'}, page_content='people')]"
      ]
     },
     "execution_count": 4,
     "metadata": {},
     "output_type": "execute_result"
    }
   ],
   "source": [
    "documents"
   ]
  },
  {
   "cell_type": "code",
   "execution_count": 5,
   "metadata": {},
   "outputs": [],
   "source": [
    "embeddings_model_name = \"sentence-transformers/all-MiniLM-L6-v2\"\n",
    "embeddings = HuggingFaceEmbeddings(model_name=embeddings_model_name) "
   ]
  },
  {
   "cell_type": "code",
   "execution_count": 6,
   "metadata": {},
   "outputs": [],
   "source": [
    "vectordb__=FAISS.from_documents(documents, embeddings)\n",
    "retriever__=vectordb__.as_retriever()"
   ]
  },
  {
   "cell_type": "code",
   "execution_count": 7,
   "metadata": {},
   "outputs": [],
   "source": [
    "prompt = ChatPromptTemplate.from_template(\"\"\"\n",
    "        Summarize all the texts given to you of each user seprately and then provide me with a summary of the texts along with the name. for eg- 'name1'='summary' and 'name2'='summary2'\n",
    "        <context>\n",
    "        {context}\n",
    "        </context>\n",
    "        Question: {input}\"\"\")\n"
   ]
  },
  {
   "cell_type": "code",
   "execution_count": null,
   "metadata": {},
   "outputs": [],
   "source": []
  }
 ],
 "metadata": {
  "kernelspec": {
   "display_name": "Python 3",
   "language": "python",
   "name": "python3"
  },
  "language_info": {
   "codemirror_mode": {
    "name": "ipython",
    "version": 3
   },
   "file_extension": ".py",
   "mimetype": "text/x-python",
   "name": "python",
   "nbconvert_exporter": "python",
   "pygments_lexer": "ipython3",
   "version": "3.12.2"
  }
 },
 "nbformat": 4,
 "nbformat_minor": 2
}
